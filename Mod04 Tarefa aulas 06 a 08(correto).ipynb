{
 "cells": [
  {
   "cell_type": "markdown",
   "metadata": {},
   "source": [
    "# Tarefa 03\n",
    "\n",
    "- Leia os enunciados com atenção\n",
    "- Saiba que pode haver mais de uma resposta correta\n",
    "- Insira novas células de código sempre que achar necessário\n",
    "- Em caso de dúvidas, procure os Tutores\n",
    "- Divirta-se :)"
   ]
  },
  {
   "cell_type": "code",
   "execution_count": 14,
   "metadata": {},
   "outputs": [],
   "source": [
    "import pandas as pd\n",
    "import requests"
   ]
  },
  {
   "cell_type": "markdown",
   "metadata": {},
   "source": [
    "####  1) Lendo de APIs\n",
    "Vimos em aula como carregar dados públicos do governo através de um API (*Application Programming Interface*). No exemplo de aula, baixamos os dados de pedidos de verificação de limites (PVL) realizados por estados, e selecionamos apenas aqueles referentes ao estado de São Paulo.\n",
    "\n",
    "1. Repita os mesmos passos feitos em aula, mas selecione os PVLs realizados por municípios no estado do Rio de Janeiro.\n",
    "2. Quais são os três *status* das solicitações mais frequentes na base? Quais são suas frequências?\n",
    "3. Construa uma nova variável que contenha o ano do **status**. Observe que ```data_status``` vem como tipo *object* no **DataFrame**. Dica: você pode usar o método ```.str``` para transformar o tipo da variável em string, em seguida um método como [**slice()**](https://pandas.pydata.org/docs/reference/api/pandas.Series.str.slice.html) ou [**split()**](https://pandas.pydata.org/pandas-docs/stable/reference/api/pandas.Series.str.split.html).\n",
    "4. Indique a frequência de cada ano do campo construído no item (3)."
   ]
  },
  {
   "cell_type": "code",
   "execution_count": 17,
   "metadata": {},
   "outputs": [],
   "source": [
    "# 1) Seu código aqui\n",
    "\n",
    "# Repita os mesmos passos feitos em aula, mas selecione os PVLs realizados por municípios no estado do Rio de Janeiro.\n",
    "url = 'https://apidatalake.tesouro.gov.br/ords/sadipem/tt/pvl'\n",
    "rq = requests.get(url)\n",
    "rq.status_code\n",
    "rq.json()\n",
    "data_json = rq.json() "
   ]
  },
  {
   "cell_type": "code",
   "execution_count": 18,
   "metadata": {},
   "outputs": [],
   "source": [
    "df = (data_json['items']) "
   ]
  },
  {
   "cell_type": "code",
   "execution_count": 21,
   "metadata": {},
   "outputs": [
    {
     "data": {
      "text/html": [
       "<div>\n",
       "<style scoped>\n",
       "    .dataframe tbody tr th:only-of-type {\n",
       "        vertical-align: middle;\n",
       "    }\n",
       "\n",
       "    .dataframe tbody tr th {\n",
       "        vertical-align: top;\n",
       "    }\n",
       "\n",
       "    .dataframe thead th {\n",
       "        text-align: right;\n",
       "    }\n",
       "</style>\n",
       "<table border=\"1\" class=\"dataframe\">\n",
       "  <thead>\n",
       "    <tr style=\"text-align: right;\">\n",
       "      <th></th>\n",
       "      <th>id_pleito</th>\n",
       "      <th>tipo_interessado</th>\n",
       "      <th>interessado</th>\n",
       "      <th>cod_ibge</th>\n",
       "      <th>uf</th>\n",
       "      <th>num_pvl</th>\n",
       "      <th>status</th>\n",
       "      <th>num_processo</th>\n",
       "      <th>data_protocolo</th>\n",
       "      <th>tipo_operacao</th>\n",
       "      <th>finalidade</th>\n",
       "      <th>tipo_credor</th>\n",
       "      <th>credor</th>\n",
       "      <th>moeda</th>\n",
       "      <th>valor</th>\n",
       "      <th>pvl_assoc_divida</th>\n",
       "      <th>pvl_contradado_credor</th>\n",
       "      <th>data_status</th>\n",
       "    </tr>\n",
       "  </thead>\n",
       "  <tbody>\n",
       "    <tr>\n",
       "      <th>0</th>\n",
       "      <td>42024</td>\n",
       "      <td>Município</td>\n",
       "      <td>Caxias do Sul</td>\n",
       "      <td>4305108</td>\n",
       "      <td>RS</td>\n",
       "      <td>PVL02.000629/2020-91</td>\n",
       "      <td>Deferido</td>\n",
       "      <td>17944.101124/2020-14</td>\n",
       "      <td>2020-03-17T11:23:23Z</td>\n",
       "      <td>Operação contratual interna</td>\n",
       "      <td>Aquisição de máquinas, equipamentos e veículos</td>\n",
       "      <td>Instituição Financeira Nacional</td>\n",
       "      <td>Banco do Estado do Rio Grande do Sul</td>\n",
       "      <td>Real</td>\n",
       "      <td>15000000.0</td>\n",
       "      <td>0</td>\n",
       "      <td>0</td>\n",
       "      <td>18/03/2020</td>\n",
       "    </tr>\n",
       "  </tbody>\n",
       "</table>\n",
       "</div>"
      ],
      "text/plain": [
       "   id_pleito tipo_interessado    interessado  cod_ibge  uf  \\\n",
       "0      42024        Município  Caxias do Sul   4305108  RS   \n",
       "\n",
       "                num_pvl    status          num_processo        data_protocolo  \\\n",
       "0  PVL02.000629/2020-91  Deferido  17944.101124/2020-14  2020-03-17T11:23:23Z   \n",
       "\n",
       "                 tipo_operacao  \\\n",
       "0  Operação contratual interna   \n",
       "\n",
       "                                       finalidade  \\\n",
       "0  Aquisição de máquinas, equipamentos e veículos   \n",
       "\n",
       "                       tipo_credor                                credor  \\\n",
       "0  Instituição Financeira Nacional  Banco do Estado do Rio Grande do Sul   \n",
       "\n",
       "  moeda       valor  pvl_assoc_divida  pvl_contradado_credor data_status  \n",
       "0  Real  15000000.0                 0                      0  18/03/2020  "
      ]
     },
     "execution_count": 21,
     "metadata": {},
     "output_type": "execute_result"
    }
   ],
   "source": [
    "df = pd.DataFrame(data_json['items'])\n",
    "df.head(1) #conferindo o dataframe"
   ]
  },
  {
   "cell_type": "code",
   "execution_count": 23,
   "metadata": {},
   "outputs": [
    {
     "data": {
      "text/html": [
       "<div>\n",
       "<style scoped>\n",
       "    .dataframe tbody tr th:only-of-type {\n",
       "        vertical-align: middle;\n",
       "    }\n",
       "\n",
       "    .dataframe tbody tr th {\n",
       "        vertical-align: top;\n",
       "    }\n",
       "\n",
       "    .dataframe thead th {\n",
       "        text-align: right;\n",
       "    }\n",
       "</style>\n",
       "<table border=\"1\" class=\"dataframe\">\n",
       "  <thead>\n",
       "    <tr style=\"text-align: right;\">\n",
       "      <th></th>\n",
       "      <th>id_pleito</th>\n",
       "      <th>tipo_interessado</th>\n",
       "      <th>interessado</th>\n",
       "      <th>cod_ibge</th>\n",
       "      <th>uf</th>\n",
       "      <th>num_pvl</th>\n",
       "      <th>status</th>\n",
       "      <th>num_processo</th>\n",
       "      <th>data_protocolo</th>\n",
       "      <th>tipo_operacao</th>\n",
       "      <th>finalidade</th>\n",
       "      <th>tipo_credor</th>\n",
       "      <th>credor</th>\n",
       "      <th>moeda</th>\n",
       "      <th>valor</th>\n",
       "      <th>pvl_assoc_divida</th>\n",
       "      <th>pvl_contradado_credor</th>\n",
       "      <th>data_status</th>\n",
       "    </tr>\n",
       "  </thead>\n",
       "  <tbody>\n",
       "    <tr>\n",
       "      <th>277</th>\n",
       "      <td>33609</td>\n",
       "      <td>Município</td>\n",
       "      <td>Vassouras</td>\n",
       "      <td>3306206</td>\n",
       "      <td>RJ</td>\n",
       "      <td>PVL02.002481/2019-96</td>\n",
       "      <td>Deferido</td>\n",
       "      <td>17944.102288/2019-17</td>\n",
       "      <td>2019-07-29T17:06:25Z</td>\n",
       "      <td>Operação contratual interna</td>\n",
       "      <td>Infraestrutura</td>\n",
       "      <td>Instituição Financeira Nacional</td>\n",
       "      <td>Caixa Econômica Federal</td>\n",
       "      <td>Real</td>\n",
       "      <td>4.050000e+07</td>\n",
       "      <td>0</td>\n",
       "      <td>1</td>\n",
       "      <td>31/07/2019</td>\n",
       "    </tr>\n",
       "    <tr>\n",
       "      <th>386</th>\n",
       "      <td>56075</td>\n",
       "      <td>Município</td>\n",
       "      <td>Resende</td>\n",
       "      <td>3304201</td>\n",
       "      <td>RJ</td>\n",
       "      <td>PVL02.003504/2022-85</td>\n",
       "      <td>Deferido (PVL-IF)</td>\n",
       "      <td>None</td>\n",
       "      <td>None</td>\n",
       "      <td>Operação contratual interna</td>\n",
       "      <td>Aquisição de máquinas, equipamentos e veículos</td>\n",
       "      <td>Instituição Financeira Nacional</td>\n",
       "      <td>Banco do Brasil S/A</td>\n",
       "      <td>Real</td>\n",
       "      <td>2.160000e+06</td>\n",
       "      <td>0</td>\n",
       "      <td>1</td>\n",
       "      <td>28/07/2022</td>\n",
       "    </tr>\n",
       "    <tr>\n",
       "      <th>465</th>\n",
       "      <td>38893</td>\n",
       "      <td>Município</td>\n",
       "      <td>Paty do Alferes</td>\n",
       "      <td>3303856</td>\n",
       "      <td>RJ</td>\n",
       "      <td>PVL02.007600/2019-05</td>\n",
       "      <td>Deferido (PVL-IF)</td>\n",
       "      <td>None</td>\n",
       "      <td>None</td>\n",
       "      <td>Operação contratual interna</td>\n",
       "      <td>Aquisição de máquinas, equipamentos e veículos</td>\n",
       "      <td>Instituição Financeira Nacional</td>\n",
       "      <td>Agência de Fomento do Estado do Rio de Janeiro</td>\n",
       "      <td>Real</td>\n",
       "      <td>3.512000e+06</td>\n",
       "      <td>0</td>\n",
       "      <td>1</td>\n",
       "      <td>30/10/2019</td>\n",
       "    </tr>\n",
       "    <tr>\n",
       "      <th>530</th>\n",
       "      <td>63612</td>\n",
       "      <td>Município</td>\n",
       "      <td>Resende</td>\n",
       "      <td>3304201</td>\n",
       "      <td>RJ</td>\n",
       "      <td>PVL02.008921/2022-14</td>\n",
       "      <td>Arquivado a pedido</td>\n",
       "      <td>17944.100828/2023-12</td>\n",
       "      <td>2023-08-24T17:59:04Z</td>\n",
       "      <td>Operação contratual interna (com garantia da U...</td>\n",
       "      <td>Infraestrutura</td>\n",
       "      <td>Instituição Financeira Nacional</td>\n",
       "      <td>Banco do Brasil S/A</td>\n",
       "      <td>Real</td>\n",
       "      <td>3.200000e+07</td>\n",
       "      <td>0</td>\n",
       "      <td>0</td>\n",
       "      <td>23/11/2023</td>\n",
       "    </tr>\n",
       "    <tr>\n",
       "      <th>624</th>\n",
       "      <td>68563</td>\n",
       "      <td>Município</td>\n",
       "      <td>Nova Iguaçu</td>\n",
       "      <td>3303500</td>\n",
       "      <td>RJ</td>\n",
       "      <td>PVL02.000551/2024-39</td>\n",
       "      <td>Em retificação pelo interessado</td>\n",
       "      <td>17944.002171/2024-00</td>\n",
       "      <td>2024-04-29T16:20:19Z</td>\n",
       "      <td>Operação contratual interna (com garantia da U...</td>\n",
       "      <td>Infraestrutura</td>\n",
       "      <td>Instituição Financeira Nacional</td>\n",
       "      <td>Caixa Econômica Federal</td>\n",
       "      <td>Real</td>\n",
       "      <td>1.600000e+08</td>\n",
       "      <td>0</td>\n",
       "      <td>0</td>\n",
       "      <td>14/05/2024</td>\n",
       "    </tr>\n",
       "    <tr>\n",
       "      <th>...</th>\n",
       "      <td>...</td>\n",
       "      <td>...</td>\n",
       "      <td>...</td>\n",
       "      <td>...</td>\n",
       "      <td>...</td>\n",
       "      <td>...</td>\n",
       "      <td>...</td>\n",
       "      <td>...</td>\n",
       "      <td>...</td>\n",
       "      <td>...</td>\n",
       "      <td>...</td>\n",
       "      <td>...</td>\n",
       "      <td>...</td>\n",
       "      <td>...</td>\n",
       "      <td>...</td>\n",
       "      <td>...</td>\n",
       "      <td>...</td>\n",
       "      <td>...</td>\n",
       "    </tr>\n",
       "    <tr>\n",
       "      <th>4563</th>\n",
       "      <td>5713</td>\n",
       "      <td>Município</td>\n",
       "      <td>Volta Redonda</td>\n",
       "      <td>3306305</td>\n",
       "      <td>RJ</td>\n",
       "      <td>None</td>\n",
       "      <td>Deferido</td>\n",
       "      <td>17944.000179/2014-51</td>\n",
       "      <td>2014-03-14T03:00:00Z</td>\n",
       "      <td>Operação contratual interna</td>\n",
       "      <td>PAC 2 - Pró-Transporte - Pavimentação e Qualif...</td>\n",
       "      <td>Instituição Financeira Nacional</td>\n",
       "      <td>Caixa Econômica Federal</td>\n",
       "      <td>Real</td>\n",
       "      <td>2.851305e+06</td>\n",
       "      <td>0</td>\n",
       "      <td>0</td>\n",
       "      <td>24/03/2014</td>\n",
       "    </tr>\n",
       "    <tr>\n",
       "      <th>4617</th>\n",
       "      <td>8556</td>\n",
       "      <td>Estado</td>\n",
       "      <td>Rio de Janeiro</td>\n",
       "      <td>33</td>\n",
       "      <td>RJ</td>\n",
       "      <td>None</td>\n",
       "      <td>Encaminhado à PGFN com manifestação técnica fa...</td>\n",
       "      <td>17944.000797/2010-78</td>\n",
       "      <td>2011-06-30T03:00:00Z</td>\n",
       "      <td>Operação contratual externa (com garantia da U...</td>\n",
       "      <td>Multissetorial</td>\n",
       "      <td>Instituição Financeira Internacional</td>\n",
       "      <td>Banco Interamericano de Desenvolvimento</td>\n",
       "      <td>Dólar dos EUA</td>\n",
       "      <td>1.120000e+08</td>\n",
       "      <td>1</td>\n",
       "      <td>0</td>\n",
       "      <td>04/07/2011</td>\n",
       "    </tr>\n",
       "    <tr>\n",
       "      <th>4701</th>\n",
       "      <td>5732</td>\n",
       "      <td>Município</td>\n",
       "      <td>Volta Redonda</td>\n",
       "      <td>3306305</td>\n",
       "      <td>RJ</td>\n",
       "      <td>None</td>\n",
       "      <td>Deferido</td>\n",
       "      <td>17944.000184/2014-64</td>\n",
       "      <td>2014-03-14T03:00:00Z</td>\n",
       "      <td>Operação contratual interna</td>\n",
       "      <td>PAC 2 - Mobilidade Médias Cidades</td>\n",
       "      <td>Instituição Financeira Nacional</td>\n",
       "      <td>Caixa Econômica Federal</td>\n",
       "      <td>Real</td>\n",
       "      <td>5.805450e+07</td>\n",
       "      <td>0</td>\n",
       "      <td>0</td>\n",
       "      <td>24/03/2014</td>\n",
       "    </tr>\n",
       "    <tr>\n",
       "      <th>4716</th>\n",
       "      <td>5625</td>\n",
       "      <td>Município</td>\n",
       "      <td>Rio de Janeiro</td>\n",
       "      <td>3304557</td>\n",
       "      <td>RJ</td>\n",
       "      <td>None</td>\n",
       "      <td>Deferido</td>\n",
       "      <td>17944.000157/2010-68</td>\n",
       "      <td>2010-10-27T02:00:00Z</td>\n",
       "      <td>Operação contratual interna</td>\n",
       "      <td>PAC - Saneamento - 2009 A</td>\n",
       "      <td>Instituição Financeira Nacional</td>\n",
       "      <td>Caixa Econômica Federal</td>\n",
       "      <td>Real</td>\n",
       "      <td>4.057386e+08</td>\n",
       "      <td>1</td>\n",
       "      <td>0</td>\n",
       "      <td>24/11/2010</td>\n",
       "    </tr>\n",
       "    <tr>\n",
       "      <th>4787</th>\n",
       "      <td>7273</td>\n",
       "      <td>Município</td>\n",
       "      <td>Rio de Janeiro</td>\n",
       "      <td>3304557</td>\n",
       "      <td>RJ</td>\n",
       "      <td>None</td>\n",
       "      <td>Deferido</td>\n",
       "      <td>17944.000536/2007-52</td>\n",
       "      <td>2007-05-30T03:00:00Z</td>\n",
       "      <td>Operação contratual interna</td>\n",
       "      <td>Saneamento para Todos</td>\n",
       "      <td>Instituição Financeira Nacional</td>\n",
       "      <td>Caixa Econômica Federal</td>\n",
       "      <td>Real</td>\n",
       "      <td>1.106480e+07</td>\n",
       "      <td>1</td>\n",
       "      <td>0</td>\n",
       "      <td>04/06/2007</td>\n",
       "    </tr>\n",
       "  </tbody>\n",
       "</table>\n",
       "<p>64 rows × 18 columns</p>\n",
       "</div>"
      ],
      "text/plain": [
       "      id_pleito tipo_interessado      interessado  cod_ibge  uf  \\\n",
       "277       33609        Município        Vassouras   3306206  RJ   \n",
       "386       56075        Município          Resende   3304201  RJ   \n",
       "465       38893        Município  Paty do Alferes   3303856  RJ   \n",
       "530       63612        Município          Resende   3304201  RJ   \n",
       "624       68563        Município      Nova Iguaçu   3303500  RJ   \n",
       "...         ...              ...              ...       ...  ..   \n",
       "4563       5713        Município    Volta Redonda   3306305  RJ   \n",
       "4617       8556           Estado   Rio de Janeiro        33  RJ   \n",
       "4701       5732        Município    Volta Redonda   3306305  RJ   \n",
       "4716       5625        Município   Rio de Janeiro   3304557  RJ   \n",
       "4787       7273        Município   Rio de Janeiro   3304557  RJ   \n",
       "\n",
       "                   num_pvl                                             status  \\\n",
       "277   PVL02.002481/2019-96                                           Deferido   \n",
       "386   PVL02.003504/2022-85                                  Deferido (PVL-IF)   \n",
       "465   PVL02.007600/2019-05                                  Deferido (PVL-IF)   \n",
       "530   PVL02.008921/2022-14                                 Arquivado a pedido   \n",
       "624   PVL02.000551/2024-39                    Em retificação pelo interessado   \n",
       "...                    ...                                                ...   \n",
       "4563                  None                                           Deferido   \n",
       "4617                  None  Encaminhado à PGFN com manifestação técnica fa...   \n",
       "4701                  None                                           Deferido   \n",
       "4716                  None                                           Deferido   \n",
       "4787                  None                                           Deferido   \n",
       "\n",
       "              num_processo        data_protocolo  \\\n",
       "277   17944.102288/2019-17  2019-07-29T17:06:25Z   \n",
       "386                   None                  None   \n",
       "465                   None                  None   \n",
       "530   17944.100828/2023-12  2023-08-24T17:59:04Z   \n",
       "624   17944.002171/2024-00  2024-04-29T16:20:19Z   \n",
       "...                    ...                   ...   \n",
       "4563  17944.000179/2014-51  2014-03-14T03:00:00Z   \n",
       "4617  17944.000797/2010-78  2011-06-30T03:00:00Z   \n",
       "4701  17944.000184/2014-64  2014-03-14T03:00:00Z   \n",
       "4716  17944.000157/2010-68  2010-10-27T02:00:00Z   \n",
       "4787  17944.000536/2007-52  2007-05-30T03:00:00Z   \n",
       "\n",
       "                                          tipo_operacao  \\\n",
       "277                         Operação contratual interna   \n",
       "386                         Operação contratual interna   \n",
       "465                         Operação contratual interna   \n",
       "530   Operação contratual interna (com garantia da U...   \n",
       "624   Operação contratual interna (com garantia da U...   \n",
       "...                                                 ...   \n",
       "4563                        Operação contratual interna   \n",
       "4617  Operação contratual externa (com garantia da U...   \n",
       "4701                        Operação contratual interna   \n",
       "4716                        Operação contratual interna   \n",
       "4787                        Operação contratual interna   \n",
       "\n",
       "                                             finalidade  \\\n",
       "277                                      Infraestrutura   \n",
       "386      Aquisição de máquinas, equipamentos e veículos   \n",
       "465      Aquisição de máquinas, equipamentos e veículos   \n",
       "530                                      Infraestrutura   \n",
       "624                                      Infraestrutura   \n",
       "...                                                 ...   \n",
       "4563  PAC 2 - Pró-Transporte - Pavimentação e Qualif...   \n",
       "4617                                     Multissetorial   \n",
       "4701                  PAC 2 - Mobilidade Médias Cidades   \n",
       "4716                          PAC - Saneamento - 2009 A   \n",
       "4787                              Saneamento para Todos   \n",
       "\n",
       "                               tipo_credor  \\\n",
       "277        Instituição Financeira Nacional   \n",
       "386        Instituição Financeira Nacional   \n",
       "465        Instituição Financeira Nacional   \n",
       "530        Instituição Financeira Nacional   \n",
       "624        Instituição Financeira Nacional   \n",
       "...                                    ...   \n",
       "4563       Instituição Financeira Nacional   \n",
       "4617  Instituição Financeira Internacional   \n",
       "4701       Instituição Financeira Nacional   \n",
       "4716       Instituição Financeira Nacional   \n",
       "4787       Instituição Financeira Nacional   \n",
       "\n",
       "                                              credor          moeda  \\\n",
       "277                          Caixa Econômica Federal           Real   \n",
       "386                              Banco do Brasil S/A           Real   \n",
       "465   Agência de Fomento do Estado do Rio de Janeiro           Real   \n",
       "530                              Banco do Brasil S/A           Real   \n",
       "624                          Caixa Econômica Federal           Real   \n",
       "...                                              ...            ...   \n",
       "4563                         Caixa Econômica Federal           Real   \n",
       "4617         Banco Interamericano de Desenvolvimento  Dólar dos EUA   \n",
       "4701                         Caixa Econômica Federal           Real   \n",
       "4716                         Caixa Econômica Federal           Real   \n",
       "4787                         Caixa Econômica Federal           Real   \n",
       "\n",
       "             valor  pvl_assoc_divida  pvl_contradado_credor data_status  \n",
       "277   4.050000e+07                 0                      1  31/07/2019  \n",
       "386   2.160000e+06                 0                      1  28/07/2022  \n",
       "465   3.512000e+06                 0                      1  30/10/2019  \n",
       "530   3.200000e+07                 0                      0  23/11/2023  \n",
       "624   1.600000e+08                 0                      0  14/05/2024  \n",
       "...            ...               ...                    ...         ...  \n",
       "4563  2.851305e+06                 0                      0  24/03/2014  \n",
       "4617  1.120000e+08                 1                      0  04/07/2011  \n",
       "4701  5.805450e+07                 0                      0  24/03/2014  \n",
       "4716  4.057386e+08                 1                      0  24/11/2010  \n",
       "4787  1.106480e+07                 1                      0  04/06/2007  \n",
       "\n",
       "[64 rows x 18 columns]"
      ]
     },
     "execution_count": 23,
     "metadata": {},
     "output_type": "execute_result"
    }
   ],
   "source": [
    "df_RJ = df[df['uf']=='RJ'] # criando um DataFrame para RJ\n",
    "df_RJ "
   ]
  },
  {
   "cell_type": "code",
   "execution_count": 27,
   "metadata": {},
   "outputs": [
    {
     "data": {
      "text/plain": [
       "status\n",
       "Deferido                                                 27\n",
       "Encaminhado à PGFN com manifestação técnica favorável    11\n",
       "Arquivado                                                10\n",
       "Deferido (PVL-IF)                                         7\n",
       "Regularizado                                              3\n",
       "Arquivado por decurso de prazo                            3\n",
       "Arquivado a pedido                                        1\n",
       "Em retificação pelo interessado                           1\n",
       "Em análise                                                1\n",
       "Name: count, dtype: int64"
      ]
     },
     "execution_count": 27,
     "metadata": {},
     "output_type": "execute_result"
    }
   ],
   "source": [
    "# 2) Seu código aqui\n",
    "\n",
    "# Quais são os três status das solicitações mais frequentes na base? Quais são suas frequências?\n",
    "df_RJ['status'].value_counts()"
   ]
  },
  {
   "cell_type": "code",
   "execution_count": 51,
   "metadata": {},
   "outputs": [],
   "source": [
    "df_RJ_data = df_RJ.copy() # tive que criar uma cópia porque ao tentar fazer a próxima etapa, o código estava gerando muitos avisos "
   ]
  },
  {
   "cell_type": "code",
   "execution_count": 57,
   "metadata": {},
   "outputs": [],
   "source": [
    "# 3) Seu código aqui\n",
    "\n",
    "#Construa uma nova variável que contenha o ano do status. Observe que data_status vem como tipo object no DataFrame.\n",
    "#Dica: você pode usar o método .str para transformar o tipo da variável em string, em seguida um método como slice() ou split().\n",
    "\n",
    "df_RJ_data ['data_status'] = pd.to_datetime(df_RJ_data['data_status'], format='%Y-%m-%d') #optei por não usar slice() ou split(). Acredito que to_datetime é mais confiável para esse caso\n",
    "df_RJ_data.loc[:,'ano'] = df_RJ_data['data_status'].dt.year #usar a função dt.year me ajuda a separar somente o ano da coluna"
   ]
  },
  {
   "cell_type": "code",
   "execution_count": 59,
   "metadata": {},
   "outputs": [
    {
     "data": {
      "text/plain": [
       "277     2019\n",
       "386     2022\n",
       "465     2019\n",
       "530     2023\n",
       "624     2024\n",
       "        ... \n",
       "4563    2014\n",
       "4617    2011\n",
       "4701    2014\n",
       "4716    2010\n",
       "4787    2007\n",
       "Name: ano, Length: 64, dtype: int32"
      ]
     },
     "execution_count": 59,
     "metadata": {},
     "output_type": "execute_result"
    }
   ],
   "source": [
    "df_RJ_data['ano'] #verificando a coluna [ano]"
   ]
  },
  {
   "cell_type": "code",
   "execution_count": 200,
   "metadata": {},
   "outputs": [
    {
     "data": {
      "text/plain": [
       "ano\n",
       "2024    2\n",
       "2023    5\n",
       "2022    3\n",
       "2020    4\n",
       "2019    5\n",
       "2017    1\n",
       "2016    2\n",
       "2015    2\n",
       "2014    6\n",
       "2013    2\n",
       "2012    3\n",
       "2011    6\n",
       "2010    3\n",
       "2009    2\n",
       "2008    7\n",
       "2007    7\n",
       "2006    1\n",
       "2004    1\n",
       "2003    1\n",
       "2002    1\n",
       "Name: count, dtype: int64"
      ]
     },
     "execution_count": 200,
     "metadata": {},
     "output_type": "execute_result"
    }
   ],
   "source": [
    "# 4) Indique a frequência de cada ano do campo construído no item (3).\n",
    "\n",
    "df_RJ_data['ano'].value_counts().sort_index(ascending=False) "
   ]
  },
  {
   "cell_type": "markdown",
   "metadata": {},
   "source": [
    "####  2) Melhorando a interação com o API\n",
    "Observe dois URLs de consultas diferentes, por exemplo o URL utilizado em aula, e o URL feito no exercício anterior. Compare-os e observe as diferenças.\n",
    "\n",
    "1. Faça uma função em Python que recebe como argumento o UF da consulta e o tipo de interessado (```'Estado'```ou ```Município```), e que devolve os dados da consulta no formato *DataFrame*.\n",
    "2. Quantas solicitações para o Estado podem ser consultadas para Minas Gerais com *status* em 'Arquivado por decurso de prazo' estão registradas?\n",
    "3. Qual é o município da Bahia com mais solicitações deferidas?\n",
    "4. Salve um arquivo .csv com os dados de solicitações da Bahia, com interessado = 'Estado'"
   ]
  },
  {
   "cell_type": "markdown",
   "metadata": {},
   "source": [
    "####  Ao comparar as diferentes URLs\n",
    "\n",
    "1. Aula:\n",
    "participacoes_acionarias = pd.read_csv('https://dadosabertos.bndes.gov.br/dataset/68a85772-df73-4c8b-8b8c-398f494fcca8/resource/10ff2d60-02d1-4619-8e42-24fc2a5927dd/download/renda-variavel-participacoes-acionarias-historico-da-carteira.csv', sep=';', decimal=',')\n",
    "\n",
    "2. Este exercicio:\n",
    "url = 'https://apidatalake.tesouro.gov.br/ords/sadipem/tt/pvl'\n",
    "rq = requests.get(url)\n",
    "rq.status_code\n",
    "\n",
    "Podemos observar que é possível incrementar a variável que recebe a URL dependendo de seu formato. É muito importante entender como os dados estão guardandos na URL antes de escolher as ferramentas para trata-los e seguir com o processamento de dados!"
   ]
  },
  {
   "cell_type": "code",
   "execution_count": 90,
   "metadata": {},
   "outputs": [
    {
     "name": "stdout",
     "output_type": "stream",
     "text": [
      "<class 'pandas.core.frame.DataFrame'>\n",
      "RangeIndex: 5000 entries, 0 to 4999\n",
      "Data columns (total 18 columns):\n",
      " #   Column                 Non-Null Count  Dtype  \n",
      "---  ------                 --------------  -----  \n",
      " 0   id_pleito              5000 non-null   int64  \n",
      " 1   tipo_interessado       5000 non-null   object \n",
      " 2   interessado            5000 non-null   object \n",
      " 3   cod_ibge               5000 non-null   int64  \n",
      " 4   uf                     5000 non-null   object \n",
      " 5   num_pvl                2553 non-null   object \n",
      " 6   status                 5000 non-null   object \n",
      " 7   num_processo           3581 non-null   object \n",
      " 8   data_protocolo         3581 non-null   object \n",
      " 9   tipo_operacao          5000 non-null   object \n",
      " 10  finalidade             5000 non-null   object \n",
      " 11  tipo_credor            5000 non-null   object \n",
      " 12  credor                 5000 non-null   object \n",
      " 13  moeda                  5000 non-null   object \n",
      " 14  valor                  5000 non-null   float64\n",
      " 15  pvl_assoc_divida       5000 non-null   int64  \n",
      " 16  pvl_contradado_credor  5000 non-null   int64  \n",
      " 17  data_status            5000 non-null   object \n",
      "dtypes: float64(1), int64(4), object(13)\n",
      "memory usage: 703.3+ KB\n"
     ]
    }
   ],
   "source": [
    "#1) Seu código aqui\n",
    "\n",
    "df.info() # preciso entender a dimensão do dataset antes de executar essa tarefa"
   ]
  },
  {
   "cell_type": "code",
   "execution_count": 92,
   "metadata": {},
   "outputs": [
    {
     "data": {
      "text/plain": [
       "tipo_interessado\n",
       "Município    4759\n",
       "Estado        241\n",
       "Name: count, dtype: int64"
      ]
     },
     "execution_count": 92,
     "metadata": {},
     "output_type": "execute_result"
    }
   ],
   "source": [
    "df['tipo_interessado'].value_counts() "
   ]
  },
  {
   "cell_type": "code",
   "execution_count": 162,
   "metadata": {},
   "outputs": [],
   "source": [
    "# 2) Seu código aqui\n",
    "\n",
    "# Faça uma função em Python que recebe como argumento o UF da consulta e o tipo de interessado ('Estado'ou Município), e que devolve os dados da consulta no formato DataFrame.\n",
    "\n",
    "def consulta_tipo_municipio_uf (df, uf, status):\n",
    "    dados_filtrados = df[(df['uf'] == uf) & (df['status'] == status)]\n",
    "    return dados_filtrados"
   ]
  },
  {
   "cell_type": "code",
   "execution_count": 164,
   "metadata": {},
   "outputs": [
    {
     "data": {
      "text/plain": [
       "array(['RS', 'PR', 'SC', 'MG', 'GO', 'BA', 'SP', 'PA', 'CE', 'MT', 'ES',\n",
       "       'RO', 'PI', 'PE', 'TO', 'MS', 'SE', 'RJ', 'RN', 'AM', 'AL', 'MA',\n",
       "       'PB', 'DF', 'AP', 'RR', 'AC'], dtype=object)"
      ]
     },
     "execution_count": 164,
     "metadata": {},
     "output_type": "execute_result"
    }
   ],
   "source": [
    "df['uf'].unique() #lista de opções de UF "
   ]
  },
  {
   "cell_type": "code",
   "execution_count": 166,
   "metadata": {},
   "outputs": [
    {
     "data": {
      "text/plain": [
       "48"
      ]
     },
     "execution_count": 166,
     "metadata": {},
     "output_type": "execute_result"
    }
   ],
   "source": [
    "# 3) Quantas solicitações para o Estado podem ser consultadas para Minas Gerais com status em 'Arquivado por decurso de prazo' estão registradas?\n",
    "\n",
    "df_resultado1 = consulta_tipo_municipio_uf(df, 'MG', 'Arquivado por decurso de prazo') # isolando apenas o status [arquivado por decurso de prazo]\n",
    "df_resultado1['status'].count() #contando quantas vezes ele aparece"
   ]
  },
  {
   "cell_type": "code",
   "execution_count": 174,
   "metadata": {},
   "outputs": [],
   "source": [
    "# 3) Seu código aqui\n",
    "# Qual é o município da Bahia com mais solicitações deferidas?\n",
    "\n",
    "def consulta_tipo_municipio_uf_2 (df, uf, status):\n",
    "    dados_filtrados = df[(df['uf'] == uf) & (df['status'] == status)]\n",
    "    return dados_filtrados"
   ]
  },
  {
   "cell_type": "code",
   "execution_count": 180,
   "metadata": {},
   "outputs": [
    {
     "data": {
      "text/plain": [
       "103"
      ]
     },
     "execution_count": 180,
     "metadata": {},
     "output_type": "execute_result"
    }
   ],
   "source": [
    "df_resultado2 = consulta_tipo_municipio_uf_2 (df, 'BA', 'Deferido')\n",
    "df_resultado2['status'].count()"
   ]
  },
  {
   "cell_type": "code",
   "execution_count": 222,
   "metadata": {},
   "outputs": [],
   "source": [
    "# Salve um arquivo .csv com os dados de solicitações da Bahia, com interessado 'Estado'\n",
    "\n",
    "def consulta_tipo_municipio_uf_3 (df, uf, tipo_interessado):\n",
    "    dados_filtrados = df[(df['uf'] == uf) & (df['tipo_interessado'] == tipo_interessado)]\n",
    "    return dados_filtrados"
   ]
  },
  {
   "cell_type": "code",
   "execution_count": 228,
   "metadata": {},
   "outputs": [],
   "source": [
    "salvar_CSV = consulta_tipo_municipio_uf_3 (df, 'BA', 'Estado')\n",
    "salvar_CSV.to_csv('Solicitações Bahia, int_estado.csv')"
   ]
  }
 ],
 "metadata": {
  "kernelspec": {
   "display_name": "Python 3 (ipykernel)",
   "language": "python",
   "name": "python3"
  },
  "language_info": {
   "codemirror_mode": {
    "name": "ipython",
    "version": 3
   },
   "file_extension": ".py",
   "mimetype": "text/x-python",
   "name": "python",
   "nbconvert_exporter": "python",
   "pygments_lexer": "ipython3",
   "version": "3.11.7"
  }
 },
 "nbformat": 4,
 "nbformat_minor": 4
}
